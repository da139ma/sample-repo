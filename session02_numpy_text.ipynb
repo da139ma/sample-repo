{
 "cells": [
  {
   "cell_type": "markdown",
   "metadata": {},
   "source": [
    "## numpy"
   ]
  },
  {
   "cell_type": "markdown",
   "metadata": {},
   "source": [
    "#### 基本操作\n",
    "- 配列の作り方\n",
    "- 型について\n",
    "- 2次元配列\n",
    "- reshape, flatten\n",
    "- shape, ndim, size"
   ]
  },
  {
   "cell_type": "code",
   "execution_count": 1,
   "metadata": {},
   "outputs": [],
   "source": [
    "#　モジュールのインポート numpyを使うときは必ずこのコードをまず打つ\n",
    "import numpy as np"
   ]
  },
  {
   "cell_type": "code",
   "execution_count": 2,
   "metadata": {},
   "outputs": [
    {
     "name": "stdout",
     "output_type": "stream",
     "text": [
      "[10 20 30 40 50]\n"
     ]
    }
   ],
   "source": [
    "# 配列を作成する\n",
    "array = np.array([10, 20, 30, 40, 50])\n",
    "print(array)"
   ]
  },
  {
   "cell_type": "code",
   "execution_count": 4,
   "metadata": {},
   "outputs": [
    {
     "data": {
      "text/plain": [
       "list"
      ]
     },
     "execution_count": 4,
     "metadata": {},
     "output_type": "execute_result"
    }
   ],
   "source": [
    "type([10,20,30,40,50])"
   ]
  },
  {
   "cell_type": "code",
   "execution_count": 3,
   "metadata": {},
   "outputs": [
    {
     "data": {
      "text/plain": [
       "numpy.ndarray"
      ]
     },
     "execution_count": 3,
     "metadata": {},
     "output_type": "execute_result"
    }
   ],
   "source": [
    "type(np.array([10,20,30,40,50]))"
   ]
  },
  {
   "cell_type": "code",
   "execution_count": 3,
   "metadata": {},
   "outputs": [
    {
     "name": "stdout",
     "output_type": "stream",
     "text": [
      "[ 60  70  80  90 100]\n"
     ]
    }
   ],
   "source": [
    "array = np.array((60, 70, 80, 90, 100))\n",
    "print(array)"
   ]
  },
  {
   "cell_type": "code",
   "execution_count": 4,
   "metadata": {},
   "outputs": [
    {
     "name": "stdout",
     "output_type": "stream",
     "text": [
      "[1.  1.5 2.  3. ]\n",
      "['1' '1.5' '2' '3']\n",
      "[1.  1.5 1.  0. ]\n"
     ]
    }
   ],
   "source": [
    "# 型は混在できない 型を統一してくれる　\n",
    "array_1 = np.array([1, 1.5, 2, 3])  # int とfloat \n",
    "array_2 = np.array([1, 1.5, '2', 3]) # 文字列 と数値\n",
    "array_3 = np.array([1, 1.5, True, False])  # 論理値と数値\n",
    "\n",
    "print(array_1)\n",
    "print(array_2)\n",
    "print(array_3)"
   ]
  },
  {
   "cell_type": "code",
   "execution_count": 5,
   "metadata": {},
   "outputs": [
    {
     "name": "stdout",
     "output_type": "stream",
     "text": [
      "[[ 1  2  3  4  5]\n",
      " [ 6  7  8  9 10]]\n"
     ]
    }
   ],
   "source": [
    "# 多次元配列\n",
    "array = np.array([[1, 2, 3, 4, 5], [6, 7, 8, 9, 10]])\n",
    "print(array)"
   ]
  },
  {
   "cell_type": "code",
   "execution_count": 6,
   "metadata": {},
   "outputs": [
    {
     "name": "stdout",
     "output_type": "stream",
     "text": [
      "[ 1  2  3  4  5  6  7  8  9 10 11 12]\n",
      "\n",
      "[[ 1  2  3  4]\n",
      " [ 5  6  7  8]\n",
      " [ 9 10 11 12]]\n",
      "\n",
      "[[ 1  2  3]\n",
      " [ 4  5  6]\n",
      " [ 7  8  9]\n",
      " [10 11 12]]\n",
      "\n",
      "[[ 1  2  3  4]\n",
      " [ 5  6  7  8]\n",
      " [ 9 10 11 12]]\n",
      "\n",
      "[[ 1  2  3]\n",
      " [ 4  5  6]\n",
      " [ 7  8  9]\n",
      " [10 11 12]]\n"
     ]
    }
   ],
   "source": [
    "# reshape(行,　列)\n",
    "lis = [1, 2, 3, 4, 5, 6, 7, 8, 9,10,11,12]\n",
    "array_0 = np.array(lis)\n",
    "array_1 = np.array(lis).reshape(3,4)#4行3列\n",
    "array_2 = np.array(lis).reshape(4,3)#3行4列\n",
    "array_3 = np.array(lis).reshape(-1,4) # -1を指定すると自動的に計算される\n",
    "array_4 = np.array(lis).reshape(4,-1)\n",
    "\n",
    "print(array_0)\n",
    "print()\n",
    "print(array_1)\n",
    "print()\n",
    "print(array_2)\n",
    "print()\n",
    "print(array_3)\n",
    "print()\n",
    "print(array_4)"
   ]
  },
  {
   "cell_type": "code",
   "execution_count": 7,
   "metadata": {
    "scrolled": true
   },
   "outputs": [
    {
     "name": "stdout",
     "output_type": "stream",
     "text": [
      "[[ 1  2  3  4  5]\n",
      " [ 6  7  8  9 10]]\n",
      "\n",
      "[ 1  2  3  4  5  6  7  8  9 10]\n"
     ]
    }
   ],
   "source": [
    "# 1次元配列に変換\n",
    "array = np.array([[1, 2, 3, 4, 5], [6, 7, 8, 9, 10]])\n",
    "print(array)\n",
    "print()\n",
    "\n",
    "array = array.flatten()\n",
    "print(array)"
   ]
  },
  {
   "cell_type": "code",
   "execution_count": 8,
   "metadata": {},
   "outputs": [
    {
     "name": "stdout",
     "output_type": "stream",
     "text": [
      "[[ 1  2  3  4  5]\n",
      " [ 6  7  8  9 10]]\n",
      "\n"
     ]
    },
    {
     "data": {
      "text/plain": [
       "(2, 5)"
      ]
     },
     "execution_count": 8,
     "metadata": {},
     "output_type": "execute_result"
    }
   ],
   "source": [
    "# 配列が何行何列かを調べる\n",
    "array = np.array([[1, 2, 3, 4, 5], [6, 7, 8, 9, 10]])\n",
    "print(array)\n",
    "print()\n",
    "array.shape"
   ]
  },
  {
   "cell_type": "code",
   "execution_count": 9,
   "metadata": {},
   "outputs": [
    {
     "data": {
      "text/plain": [
       "2"
      ]
     },
     "execution_count": 9,
     "metadata": {},
     "output_type": "execute_result"
    }
   ],
   "source": [
    "# 配列の次元を調べる\n",
    "array.ndim"
   ]
  },
  {
   "cell_type": "code",
   "execution_count": 10,
   "metadata": {},
   "outputs": [
    {
     "data": {
      "text/plain": [
       "10"
      ]
     },
     "execution_count": 10,
     "metadata": {},
     "output_type": "execute_result"
    }
   ],
   "source": [
    "# 要素の数を調べる\n",
    "array.size"
   ]
  },
  {
   "cell_type": "code",
   "execution_count": null,
   "metadata": {},
   "outputs": [],
   "source": []
  },
  {
   "cell_type": "markdown",
   "metadata": {},
   "source": [
    "#### 効率的な配列の作成\n",
    "- arange\n",
    "- ゼロ行列の作り方\n",
    "- ランダム配列の作り方\n",
    "- random.seed"
   ]
  },
  {
   "cell_type": "code",
   "execution_count": 11,
   "metadata": {},
   "outputs": [
    {
     "name": "stdout",
     "output_type": "stream",
     "text": [
      "[0 1 2 3 4 5 6 7 8 9]\n",
      "\n",
      "[1 2 3 4 5 6 7 8 9]\n",
      "\n",
      "[1 3 5 7 9]\n",
      "\n"
     ]
    }
   ],
   "source": [
    "# np.arange(開始, 終了, ステップ)\n",
    "array = np.arange(10)\n",
    "print(array)\n",
    "print()\n",
    "\n",
    "array = np.arange(1,10)\n",
    "print(array)\n",
    "print()\n",
    "\n",
    "array = np.arange(1,10,2)\n",
    "print(array)\n",
    "print()"
   ]
  },
  {
   "cell_type": "code",
   "execution_count": 12,
   "metadata": {},
   "outputs": [
    {
     "name": "stdout",
     "output_type": "stream",
     "text": [
      "[0. 0. 0. 0. 0. 0. 0. 0. 0.]\n",
      "\n",
      "[[0. 0. 0.]\n",
      " [0. 0. 0.]]\n"
     ]
    }
   ],
   "source": [
    "# 零行列  \n",
    "array = np.zeros(9)\n",
    "print(array)  \n",
    "print()\n",
    "\n",
    "array = np.zeros((2,3))\n",
    "print(array)  "
   ]
  },
  {
   "cell_type": "code",
   "execution_count": 13,
   "metadata": {},
   "outputs": [
    {
     "name": "stdout",
     "output_type": "stream",
     "text": [
      "[0.68222834 0.62173901 0.21059451 0.67456095 0.54791604]\n",
      "\n",
      "[0.22726485 0.33043693 0.84597157 0.42806712 0.84426224]\n",
      "\n",
      "[[0.71410191 0.09633714 0.81596844 0.35993168 0.72933131]\n",
      " [0.14339029 0.47674916 0.71078137 0.19667069 0.58799367]]\n"
     ]
    }
   ],
   "source": [
    "# 0-1の乱数を作成\n",
    "array = np.random.rand(5)\n",
    "print(array)\n",
    "print()\n",
    "\n",
    "array = np.random.rand(5)\n",
    "print(array)\n",
    "print()\n",
    "\n",
    "array = np.random.rand(2, 5)\n",
    "print(array)"
   ]
  },
  {
   "cell_type": "code",
   "execution_count": 14,
   "metadata": {},
   "outputs": [
    {
     "name": "stdout",
     "output_type": "stream",
     "text": [
      "[0.5488135  0.71518937 0.60276338 0.54488318 0.4236548 ]\n",
      "\n",
      "[0.5488135  0.71518937 0.60276338 0.54488318 0.4236548 ]\n",
      "\n",
      "[0.19151945 0.62210877 0.43772774 0.78535858 0.77997581]\n",
      "\n",
      "[0.19151945 0.62210877 0.43772774 0.78535858 0.77997581]\n"
     ]
    }
   ],
   "source": [
    "# 乱数を固定\n",
    "np.random.seed(0)\n",
    "array = np.random.rand(5)\n",
    "print(array)\n",
    "print()\n",
    "\n",
    "np.random.seed(0)\n",
    "array = np.random.rand(5)\n",
    "print(array)\n",
    "print()\n",
    "\n",
    "np.random.seed(1234)\n",
    "array = np.random.rand(5)\n",
    "print(array)\n",
    "print()\n",
    "\n",
    "np.random.seed(1234)\n",
    "array = np.random.rand(5)\n",
    "print(array)"
   ]
  },
  {
   "cell_type": "code",
   "execution_count": null,
   "metadata": {},
   "outputs": [],
   "source": []
  },
  {
   "cell_type": "markdown",
   "metadata": {},
   "source": [
    "#### 要素の追加・参照\n",
    "- append\n",
    "- 参照（スライシング）\n",
    "- for文"
   ]
  },
  {
   "cell_type": "code",
   "execution_count": 15,
   "metadata": {},
   "outputs": [
    {
     "name": "stdout",
     "output_type": "stream",
     "text": [
      "[5 7 9]\n"
     ]
    }
   ],
   "source": [
    "# 足し算をすると要素同士が足されて追加できない\n",
    "array_1 = np.array([1,2,3])\n",
    "array_2 = np.array([4,5,6])\n",
    "array_3 = array_1 + array_2\n",
    "print(array_3)"
   ]
  },
  {
   "cell_type": "code",
   "execution_count": 16,
   "metadata": {},
   "outputs": [
    {
     "name": "stdout",
     "output_type": "stream",
     "text": [
      "[1 2 3 4 5 6]\n"
     ]
    }
   ],
   "source": [
    "# np.append\n",
    "array_1 = np.array([1,2,3])\n",
    "array_2 = np.array([4,5,6])\n",
    "array_3 = np.append(array_1, array_2)\n",
    "print(array_3)\n"
   ]
  },
  {
   "cell_type": "code",
   "execution_count": 17,
   "metadata": {},
   "outputs": [
    {
     "name": "stdout",
     "output_type": "stream",
     "text": [
      "[[ 0 10 20]\n",
      " [30 40 50]\n",
      " [60 70 80]]\n",
      "\n",
      "[ 0 10 20]\n",
      "\n",
      "10\n",
      "\n",
      "10\n",
      "\n",
      "[10 40 70]\n",
      "\n",
      "[60 70 80]\n",
      "\n"
     ]
    }
   ],
   "source": [
    "# 参照\n",
    "array = np.arange(0, 90, 10).reshape(3,3)\n",
    "print(array)\n",
    "print()\n",
    "\n",
    "print(array[0])\n",
    "print()\n",
    "\n",
    "print(array[0][1])\n",
    "print()\n",
    "\n",
    "print(array[0, 1])\n",
    "print()\n",
    "\n",
    "print(array[:, 1])\n",
    "print()\n",
    "\n",
    "print(array[-1, :])\n",
    "print()"
   ]
  },
  {
   "cell_type": "code",
   "execution_count": 18,
   "metadata": {},
   "outputs": [
    {
     "name": "stdout",
     "output_type": "stream",
     "text": [
      "[[0 1]\n",
      " [2 3]\n",
      " [4 5]]\n",
      "\n",
      "[0 1]\n",
      "[2 3]\n",
      "[4 5]\n",
      "\n",
      "0\n",
      "1\n",
      "2\n",
      "3\n",
      "4\n",
      "5\n"
     ]
    }
   ],
   "source": [
    "# for文\n",
    "array = np.arange(6).reshape(3,2)\n",
    "print(array)\n",
    "print()\n",
    "\n",
    "for item in array:\n",
    "    print(item)\n",
    "\n",
    "print()\n",
    "for item in array.flatten():\n",
    "    print(item)"
   ]
  },
  {
   "cell_type": "code",
   "execution_count": null,
   "metadata": {},
   "outputs": [],
   "source": []
  },
  {
   "cell_type": "markdown",
   "metadata": {},
   "source": [
    "#### 演算\n",
    "- 四則演算\n",
    "- ブロードキャスト\n",
    "- 内積"
   ]
  },
  {
   "cell_type": "code",
   "execution_count": 19,
   "metadata": {},
   "outputs": [
    {
     "name": "stdout",
     "output_type": "stream",
     "text": [
      "[[ 0 10 20]\n",
      " [30 40 50]\n",
      " [60 70 80]]\n",
      "\n",
      "[[10 20 30]\n",
      " [40 50 60]\n",
      " [70 80 90]]\n"
     ]
    }
   ],
   "source": [
    "# 足し算\n",
    "A = np.arange(0, 90, 10).reshape(3,3)\n",
    "B = A + 10\n",
    "\n",
    "print(A)\n",
    "print()\n",
    "print(B) # 全体の要素に反映される(ブロードキャスト)"
   ]
  },
  {
   "cell_type": "code",
   "execution_count": 20,
   "metadata": {},
   "outputs": [
    {
     "name": "stdout",
     "output_type": "stream",
     "text": [
      "[[ 0 10 20]\n",
      " [30 40 50]\n",
      " [60 70 80]]\n",
      "\n",
      "[[-10   0  10]\n",
      " [ 20  30  40]\n",
      " [ 50  60  70]]\n"
     ]
    }
   ],
   "source": [
    "# 引き算\n",
    "A = np.arange(0, 90, 10).reshape(3,3)\n",
    "B = A - 10\n",
    "\n",
    "print(A)\n",
    "print()\n",
    "print(B)"
   ]
  },
  {
   "cell_type": "code",
   "execution_count": 21,
   "metadata": {},
   "outputs": [
    {
     "name": "stdout",
     "output_type": "stream",
     "text": [
      "[[ 0 10 20]\n",
      " [30 40 50]\n",
      " [60 70 80]]\n",
      "\n",
      "[[  0  30  60]\n",
      " [ 90 120 150]\n",
      " [180 210 240]]\n"
     ]
    }
   ],
   "source": [
    "# 掛け算\n",
    "A = np.arange(0, 90, 10).reshape(3,3)\n",
    "B = A * 3\n",
    "\n",
    "print(A)\n",
    "print()\n",
    "print(B)"
   ]
  },
  {
   "cell_type": "code",
   "execution_count": 22,
   "metadata": {},
   "outputs": [
    {
     "name": "stdout",
     "output_type": "stream",
     "text": [
      "[[ 0 10 20]\n",
      " [30 40 50]\n",
      " [60 70 80]]\n",
      "\n",
      "[[ 0.  5. 10.]\n",
      " [15. 20. 25.]\n",
      " [30. 35. 40.]]\n"
     ]
    }
   ],
   "source": [
    "# 割り算\n",
    "A = np.arange(0, 90, 10).reshape(3,3)\n",
    "B = A / 2\n",
    "\n",
    "print(A)\n",
    "print()\n",
    "print(B) # float型になる"
   ]
  },
  {
   "cell_type": "code",
   "execution_count": 23,
   "metadata": {},
   "outputs": [
    {
     "name": "stdout",
     "output_type": "stream",
     "text": [
      "[[ 0 10 20]\n",
      " [30 40 50]\n",
      " [60 70 80]]\n",
      "\n",
      "[[ 0]\n",
      " [10]\n",
      " [20]]\n",
      "\n",
      "[[  0  10  20]\n",
      " [ 40  50  60]\n",
      " [ 80  90 100]]\n"
     ]
    }
   ],
   "source": [
    "# 行列とベクトルの演算\n",
    "A = np.arange(0, 90, 10).reshape(3,3)\n",
    "B = np.arange(0, 30, 10).reshape(3,1)\n",
    "C = A + B\n",
    "\n",
    "print(A)\n",
    "print()\n",
    "print(B)\n",
    "print()\n",
    "print(C) # 足りない分が補間される(ブロードキャスト)"
   ]
  },
  {
   "cell_type": "code",
   "execution_count": 24,
   "metadata": {},
   "outputs": [
    {
     "name": "stdout",
     "output_type": "stream",
     "text": [
      "[[ 0 10 20]\n",
      " [30 40 50]\n",
      " [60 70 80]]\n",
      "\n",
      "[[100 110 120]\n",
      " [130 140 150]\n",
      " [160 170 180]]\n",
      "\n",
      "[[100 120 140]\n",
      " [160 180 200]\n",
      " [220 240 260]]\n"
     ]
    }
   ],
   "source": [
    "# 行列と行列の演算  \n",
    "A = np.arange(0, 90, 10).reshape(3,3)\n",
    "B = np.arange(100, 190, 10).reshape(3,3)\n",
    "C = A + B\n",
    "\n",
    "print(A)\n",
    "print()\n",
    "print(B)\n",
    "print()\n",
    "print(C)"
   ]
  },
  {
   "cell_type": "code",
   "execution_count": 25,
   "metadata": {},
   "outputs": [
    {
     "name": "stdout",
     "output_type": "stream",
     "text": [
      "[[1 2]\n",
      " [3 4]]\n",
      "\n",
      "[[5 6]\n",
      " [7 8]]\n",
      "\n",
      "[[19 22]\n",
      " [43 50]]\n"
     ]
    }
   ],
   "source": [
    "# 内積\n",
    "A = np.array([[1, 2], [3, 4]])\n",
    "B = np.array([[5, 6], [7, 8]])\n",
    "print(A)\n",
    "print()\n",
    "print(B)\n",
    "print()\n",
    "\n",
    "AB = np.dot(A, B)\n",
    "#AB = A.dot(B)\n",
    "\n",
    "print(AB)\n",
    "# [[1*5 + 2*7,  1*6 + 2*8],\n",
    "#  [3*5 + 4*7,  3*6 + 4*8]]"
   ]
  },
  {
   "cell_type": "code",
   "execution_count": null,
   "metadata": {},
   "outputs": [],
   "source": []
  },
  {
   "cell_type": "markdown",
   "metadata": {},
   "source": [
    "#### 行方向・列方向の処理\n",
    "- axis"
   ]
  },
  {
   "cell_type": "code",
   "execution_count": 26,
   "metadata": {},
   "outputs": [
    {
     "name": "stdout",
     "output_type": "stream",
     "text": [
      "[[0 1 2]\n",
      " [3 4 5]]\n",
      "\n",
      "15\n",
      "\n",
      "[3 5 7]\n",
      "\n",
      "[ 3 12]\n"
     ]
    }
   ],
   "source": [
    "array = np.arange(6).reshape(2, 3)\n",
    "print(array)\n",
    "print()\n",
    "\n",
    "# 全体への処理\n",
    "print(np.sum(array))\n",
    "print()\n",
    "\n",
    "# 行方向の処理\n",
    "print(np.sum(array, axis=0))\n",
    "print()\n",
    "\n",
    "# 列方向の処理\n",
    "print(np.sum(array, axis=1))"
   ]
  },
  {
   "cell_type": "code",
   "execution_count": null,
   "metadata": {
    "collapsed": true
   },
   "outputs": [],
   "source": []
  }
 ],
 "metadata": {
  "anaconda-cloud": {},
  "kernelspec": {
   "display_name": "Python 3",
   "language": "python",
   "name": "python3"
  },
  "language_info": {
   "codemirror_mode": {
    "name": "ipython",
    "version": 3
   },
   "file_extension": ".py",
   "mimetype": "text/x-python",
   "name": "python",
   "nbconvert_exporter": "python",
   "pygments_lexer": "ipython3",
   "version": "3.6.9"
  }
 },
 "nbformat": 4,
 "nbformat_minor": 1
}
